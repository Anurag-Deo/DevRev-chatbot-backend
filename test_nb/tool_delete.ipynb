{
 "cells": [
  {
   "cell_type": "code",
   "execution_count": 1,
   "metadata": {},
   "outputs": [],
   "source": [
    "import chromadb\n",
    "from chromadb.config import Settings\n",
    "from chromadb.utils import embedding_functions\n",
    "from langchain.vectorstores import Chroma\n",
    "from langchain.chat_models import ChatOpenAI\n",
    "from langchain.retrievers.multi_query import MultiQueryRetriever\n",
    "from langchain.output_parsers import PydanticOutputParser\n",
    "from langchain.prompts import PromptTemplate\n",
    "from langchain.chains import LLMChain\n",
    "from langchain.embeddings import HuggingFaceEmbeddings"
   ]
  },
  {
   "cell_type": "code",
   "execution_count": 31,
   "metadata": {},
   "outputs": [],
   "source": [
    "client = chromadb.PersistentClient(path=\"../hf_db\")"
   ]
  },
  {
   "cell_type": "code",
   "execution_count": 32,
   "metadata": {},
   "outputs": [],
   "source": [
    "sentence_transformer_ef = embedding_functions.SentenceTransformerEmbeddingFunction(model_name=\"BAAI/bge-base-en-v1.5\")"
   ]
  },
  {
   "cell_type": "code",
   "execution_count": 33,
   "metadata": {},
   "outputs": [],
   "source": [
    "collection = client.get_collection(name='hf_check_1', embedding_function=sentence_transformer_ef)"
   ]
  },
  {
   "cell_type": "code",
   "execution_count": 34,
   "metadata": {},
   "outputs": [
    {
     "data": {
      "text/plain": [
       "{'ids': [['ID0', 'ID5', 'ID3', 'ID7', 'ID1']],\n",
       " 'distances': [[0.5426277720778117,\n",
       "   0.8171475706017186,\n",
       "   0.8473719161778943,\n",
       "   0.8766460389583294,\n",
       "   0.8994713377998609]],\n",
       " 'metadatas': [[{'API': 'works_list'},\n",
       "   {'API': 'get_similar_work_items'},\n",
       "   {'API': 'add_work_items_to_sprint'},\n",
       "   {'API': 'create_actionable_tasks_from_text'},\n",
       "   {'API': 'summarize_objects'}]],\n",
       " 'embeddings': None,\n",
       " 'documents': [['##API Name: works_list \\n###Description: Returns a list of work items matching the request\\n\\n###Arguments: \\n\\nAPI Argument: applies_to_part\\nArgument Description: Filters for work belonging to any of the provided parts\\nReturn Type: array of strings\\nAPI Argument: created_by\\nArgument Description: Filters for work created by any of these users\\nReturn Type: array of strings\\nAPI Argument: issue.priority\\nArgument Description: Filters for issues with any of the provided priorities. Allowed values: p0, p1, p2, p3\\nReturn Type: array of strings\\nAPI Argument: issue.rev_orgs\\nArgument Description: Filters for issues with any of the provided Rev organizations\\nReturn Type: array of strings\\nAPI Argument: limit\\nArgument Description: The maximum number of works to return. The default is 50\\nReturn Type: integer(int32)\\nAPI Argument: owned_by\\nArgument Description: Filters for work owned by any of these users\\nReturn Type: array of strings\\nAPI Argument: stage.name\\nArgument Description: Filters for records in the provided stage(s) by name\\nReturn Type: array of strings\\nAPI Argument: ticket.needs_response\\nArgument Description: Filters for tickets that need a response\\nReturn Type: boolean\\nAPI Argument: ticket.rev_org\\nArgument Description: Filters for tickets associated with any of the provided Rev organizations\\nReturn Type: array of strings\\nAPI Argument: ticket.severity\\nArgument Description: Filters for tickets with any of the provided severities. Allowed values: blocker, high, low, mediu\\nReturn Type: array of strings\\nAPI Argument: ticket.source_channel\\nArgument Description: Filters for tickets with any of the provided source channels\\nReturn Type: array of strings\\nAPI Argument: type\\nArgument Description: Filters for work of the provided types. Allowed values: issue, ticket, task\\nReturn Type: array of strings\\n',\n",
       "   '##API Name: get_similar_work_items \\n###Description: Returns a list of work items that are similar to the given work item\\n\\n###Arguments: \\n\\nAPI Argument: work_id\\nArgument Description: The ID of the work item for which you want to ﬁnd similar items\\nReturn Type: string\\n',\n",
       "   '##API Name: add_work_items_to_sprint \\n###Description: Adds the given work items to the sprint\\n\\n###Arguments: \\n\\nAPI Argument: work_ids\\nArgument Description: A list of work item IDs to be added to the sprint.\\nReturn Type: array of strings\\nAPI Argument: sprint_id\\nArgument Description: The ID of the sprint to which the work items should be added\\nReturn Type: string\\n',\n",
       "   '##API Name: create_actionable_tasks_from_text \\n###Description: Given a text, extracts actionable insights, and creates tasks for them, which are kind of a work item.\\n\\n###Arguments: \\n\\nAPI Argument: text\\nArgument Description: The text from which the actionable insights need to be created.\\nReturn Type: string\\n',\n",
       "   '##API Name: summarize_objects \\n###Description: Summarizes a list of objects. The logic of how to summarize a particular object type is an internal implementation detail.\\n\\n###Arguments: \\n\\nAPI Argument: objects\\nArgument Description: List of objects to summarize\\nReturn Type: array of objects\\n']]}"
      ]
     },
     "execution_count": 34,
     "metadata": {},
     "output_type": "execute_result"
    }
   ],
   "source": [
    "collection.query(\n",
    "    query_texts=[\"works_list\"],\n",
    "    n_results=5\n",
    ")"
   ]
  },
  {
   "cell_type": "code",
   "execution_count": 35,
   "metadata": {},
   "outputs": [],
   "source": [
    "collection.upsert(\n",
    "    documents=[\"Hello adding test document!!!!\"],\n",
    "    ids = ['ID2']\n",
    ")"
   ]
  },
  {
   "cell_type": "code",
   "execution_count": 29,
   "metadata": {},
   "outputs": [
    {
     "data": {
      "text/plain": [
       "10"
      ]
     },
     "execution_count": 29,
     "metadata": {},
     "output_type": "execute_result"
    }
   ],
   "source": [
    "collection.count()"
   ]
  },
  {
   "cell_type": "code",
   "execution_count": null,
   "metadata": {},
   "outputs": [],
   "source": []
  },
  {
   "cell_type": "code",
   "execution_count": 36,
   "metadata": {},
   "outputs": [
    {
     "name": "stderr",
     "output_type": "stream",
     "text": [
      "Number of requested results 10 is greater than number of elements in index 9, updating n_results = 9\n"
     ]
    },
    {
     "data": {
      "text/plain": [
       "{'ids': [['ID2', 'ID0', 'ID1', 'ID6', 'ID3', 'ID7', 'ID5', 'ID8', 'ID4']],\n",
       " 'distances': [[0.7975004069613968,\n",
       "   0.9636190378214078,\n",
       "   0.9681865634188,\n",
       "   1.0498325609219459,\n",
       "   1.0749156984172454,\n",
       "   1.1074173678681472,\n",
       "   1.1364022893940233,\n",
       "   1.1400432116396215,\n",
       "   1.1816295884861514]],\n",
       " 'metadatas': [[{'API': 'prioritize_objects'},\n",
       "   {'API': 'works_list'},\n",
       "   {'API': 'summarize_objects'},\n",
       "   {'API': 'search_object_by_name'},\n",
       "   {'API': 'add_work_items_to_sprint'},\n",
       "   {'API': 'create_actionable_tasks_from_text'},\n",
       "   {'API': 'get_similar_work_items'},\n",
       "   {'API': 'who_am_i'},\n",
       "   {'API': 'get_sprint_id'}]],\n",
       " 'embeddings': None,\n",
       " 'documents': [['Hello adding test document!!!!',\n",
       "   '##API Name: works_list \\n###Description: Returns a list of work items matching the request\\n\\n###Arguments: \\n\\nAPI Argument: applies_to_part\\nArgument Description: Filters for work belonging to any of the provided parts\\nReturn Type: array of strings\\nAPI Argument: created_by\\nArgument Description: Filters for work created by any of these users\\nReturn Type: array of strings\\nAPI Argument: issue.priority\\nArgument Description: Filters for issues with any of the provided priorities. Allowed values: p0, p1, p2, p3\\nReturn Type: array of strings\\nAPI Argument: issue.rev_orgs\\nArgument Description: Filters for issues with any of the provided Rev organizations\\nReturn Type: array of strings\\nAPI Argument: limit\\nArgument Description: The maximum number of works to return. The default is 50\\nReturn Type: integer(int32)\\nAPI Argument: owned_by\\nArgument Description: Filters for work owned by any of these users\\nReturn Type: array of strings\\nAPI Argument: stage.name\\nArgument Description: Filters for records in the provided stage(s) by name\\nReturn Type: array of strings\\nAPI Argument: ticket.needs_response\\nArgument Description: Filters for tickets that need a response\\nReturn Type: boolean\\nAPI Argument: ticket.rev_org\\nArgument Description: Filters for tickets associated with any of the provided Rev organizations\\nReturn Type: array of strings\\nAPI Argument: ticket.severity\\nArgument Description: Filters for tickets with any of the provided severities. Allowed values: blocker, high, low, mediu\\nReturn Type: array of strings\\nAPI Argument: ticket.source_channel\\nArgument Description: Filters for tickets with any of the provided source channels\\nReturn Type: array of strings\\nAPI Argument: type\\nArgument Description: Filters for work of the provided types. Allowed values: issue, ticket, task\\nReturn Type: array of strings\\n',\n",
       "   '##API Name: summarize_objects \\n###Description: Summarizes a list of objects. The logic of how to summarize a particular object type is an internal implementation detail.\\n\\n###Arguments: \\n\\nAPI Argument: objects\\nArgument Description: List of objects to summarize\\nReturn Type: array of objects\\n',\n",
       "   '##API Name: search_object_by_name \\n###Description: Given a search string, returns the id of a matching object in the system of record. If multiple matches are found, it returns the one where the conﬁdence is highest.\\n\\n###Arguments: \\n\\nAPI Argument: query\\nArgument Description: The search string, could be for example customer’s name, part name, user name.\\nReturn Type: string\\n',\n",
       "   '##API Name: add_work_items_to_sprint \\n###Description: Adds the given work items to the sprint\\n\\n###Arguments: \\n\\nAPI Argument: work_ids\\nArgument Description: A list of work item IDs to be added to the sprint.\\nReturn Type: array of strings\\nAPI Argument: sprint_id\\nArgument Description: The ID of the sprint to which the work items should be added\\nReturn Type: string\\n',\n",
       "   '##API Name: create_actionable_tasks_from_text \\n###Description: Given a text, extracts actionable insights, and creates tasks for them, which are kind of a work item.\\n\\n###Arguments: \\n\\nAPI Argument: text\\nArgument Description: The text from which the actionable insights need to be created.\\nReturn Type: string\\n',\n",
       "   '##API Name: get_similar_work_items \\n###Description: Returns a list of work items that are similar to the given work item\\n\\n###Arguments: \\n\\nAPI Argument: work_id\\nArgument Description: The ID of the work item for which you want to ﬁnd similar items\\nReturn Type: string\\n',\n",
       "   '##API Name: who_am_i \\n###Description: Returns the ID of the current user\\n\\n###Arguments: \\n\\n',\n",
       "   '##API Name: get_sprint_id \\n###Description: Returns the ID of the current sprint\\n\\n###Arguments: \\n\\n']]}"
      ]
     },
     "execution_count": 36,
     "metadata": {},
     "output_type": "execute_result"
    }
   ],
   "source": [
    "collection.query(\n",
    "    query_texts=[\"Bullshit\"],\n",
    "    n_results=10\n",
    ")"
   ]
  },
  {
   "cell_type": "code",
   "execution_count": 18,
   "metadata": {},
   "outputs": [],
   "source": [
    "collection.delete(\n",
    "    ids=['ID2']\n",
    ")"
   ]
  },
  {
   "cell_type": "code",
   "execution_count": 37,
   "metadata": {},
   "outputs": [
    {
     "data": {
      "text/plain": [
       "10"
      ]
     },
     "execution_count": 37,
     "metadata": {},
     "output_type": "execute_result"
    }
   ],
   "source": [
    "collection.count()"
   ]
  }
 ],
 "metadata": {
  "kernelspec": {
   "display_name": "devrev",
   "language": "python",
   "name": "python3"
  },
  "language_info": {
   "codemirror_mode": {
    "name": "ipython",
    "version": 3
   },
   "file_extension": ".py",
   "mimetype": "text/x-python",
   "name": "python",
   "nbconvert_exporter": "python",
   "pygments_lexer": "ipython3",
   "version": "3.9.18"
  }
 },
 "nbformat": 4,
 "nbformat_minor": 2
}
