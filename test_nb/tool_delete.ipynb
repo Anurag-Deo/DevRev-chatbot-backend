{
 "cells": [
  {
   "cell_type": "code",
   "execution_count": 1,
   "metadata": {},
   "outputs": [],
   "source": [
    "import chromadb\n",
    "from chromadb.config import Settings\n",
    "from chromadb.utils import embedding_functions\n",
    "from langchain.vectorstores import Chroma\n",
    "from langchain.chat_models import ChatOpenAI\n",
    "from langchain.retrievers.multi_query import MultiQueryRetriever\n",
    "from langchain.output_parsers import PydanticOutputParser\n",
    "from langchain.prompts import PromptTemplate\n",
    "from langchain.chains import LLMChain\n",
    "from langchain.embeddings import HuggingFaceEmbeddings"
   ]
  },
  {
   "cell_type": "code",
   "execution_count": 2,
   "metadata": {},
   "outputs": [],
   "source": [
    "client = chromadb.PersistentClient(path=\"../hf_db\")"
   ]
  },
  {
   "cell_type": "code",
   "execution_count": 3,
   "metadata": {},
   "outputs": [
    {
     "name": "stderr",
     "output_type": "stream",
     "text": [
      "/home/sharchit/anaconda3/envs/devrev/lib/python3.9/site-packages/tqdm/auto.py:21: TqdmWarning: IProgress not found. Please update jupyter and ipywidgets. See https://ipywidgets.readthedocs.io/en/stable/user_install.html\n",
      "  from .autonotebook import tqdm as notebook_tqdm\n"
     ]
    }
   ],
   "source": [
    "sentence_transformer_ef = embedding_functions.SentenceTransformerEmbeddingFunction(model_name=\"BAAI/bge-base-en-v1.5\")"
   ]
  },
  {
   "cell_type": "code",
   "execution_count": 4,
   "metadata": {},
   "outputs": [],
   "source": [
    "collection_hf = client.get_or_create_collection(name=\"hf_check_1\", metadata={\"hnsw:space\": \"cosine\"},embedding_function = sentence_transformer_ef)"
   ]
  },
  {
   "cell_type": "code",
   "execution_count": 6,
   "metadata": {},
   "outputs": [
    {
     "data": {
      "text/plain": [
       "{'ids': [['ID10', 'ID3', 'ID1', 'ID6', 'ID2']],\n",
       " 'distances': [[0.2620745993363709,\n",
       "   0.4516917084101151,\n",
       "   0.502083539984615,\n",
       "   0.5193793056169076,\n",
       "   0.5201345111240894]],\n",
       " 'metadatas': [[None,\n",
       "   {'API': 'add_work_items_to_sprint'},\n",
       "   {'API': 'summarize_objects'},\n",
       "   {'API': 'search_object_by_name'},\n",
       "   {'API': 'prioritize_objects'}]],\n",
       " 'embeddings': None,\n",
       " 'documents': [[None,\n",
       "   '##API Name: add_work_items_to_sprint \\n###Description: Adds the given work items to the sprint\\n\\n###Arguments: \\n\\nAPI Argument: work_ids\\nArgument Description: A list of work item IDs to be added to the sprint.\\nReturn Type: array of strings\\nAPI Argument: sprint_id\\nArgument Description: The ID of the sprint to which the work items should be added\\nReturn Type: string\\n',\n",
       "   '##API Name: summarize_objects \\n###Description: Summarizes a list of objects. The logic of how to summarize a particular object type is an internal implementation detail.\\n\\n###Arguments: \\n\\nAPI Argument: objects\\nArgument Description: List of objects to summarize\\nReturn Type: array of objects\\n',\n",
       "   '##API Name: search_object_by_name \\n###Description: Given a search string, returns the id of a matching object in the system of record. If multiple matches are found, it returns the one where the conﬁdence is highest.\\n\\n###Arguments: \\n\\nAPI Argument: query\\nArgument Description: The search string, could be for example customer’s name, part name, user name.\\nReturn Type: string\\n',\n",
       "   '##API Name: prioritize_objects \\n###Description: Returns a list of objects sorted by priority. The logic of what constitutes priority for a given object is an internal implementation detail.\\n\\n###Arguments: \\n\\nAPI Argument: objects\\nArgument Description: A list of objects to be prioritized\\nReturn Type: array of objects\\n']]}"
      ]
     },
     "execution_count": 6,
     "metadata": {},
     "output_type": "execute_result"
    }
   ],
   "source": [
    "collection_hf.query(\n",
    "    query_texts=[\"adds number\"],\n",
    "    n_results=5\n",
    ")"
   ]
  },
  {
   "cell_type": "code",
   "execution_count": null,
   "metadata": {},
   "outputs": [],
   "source": [
    "collection_hf.peek()"
   ]
  },
  {
   "cell_type": "code",
   "execution_count": null,
   "metadata": {},
   "outputs": [],
   "source": [
    "collection_hf.peek()"
   ]
  },
  {
   "cell_type": "code",
   "execution_count": 53,
   "metadata": {},
   "outputs": [
    {
     "data": {
      "text/plain": [
       "UUID('7d69ca1f-5c31-45d7-a64c-17d834bd088e')"
      ]
     },
     "execution_count": 53,
     "metadata": {},
     "output_type": "execute_result"
    }
   ],
   "source": [
    "collection_hf.id"
   ]
  },
  {
   "cell_type": "code",
   "execution_count": null,
   "metadata": {},
   "outputs": [],
   "source": [
    "collection_hf.query(\n",
    "    query_texts=[\"This is useless\"],\n",
    "    n_results=10\n",
    ")"
   ]
  }
 ],
 "metadata": {
  "kernelspec": {
   "display_name": "devrev",
   "language": "python",
   "name": "python3"
  },
  "language_info": {
   "codemirror_mode": {
    "name": "ipython",
    "version": 3
   },
   "file_extension": ".py",
   "mimetype": "text/x-python",
   "name": "python",
   "nbconvert_exporter": "python",
   "pygments_lexer": "ipython3",
   "version": "3.9.18"
  }
 },
 "nbformat": 4,
 "nbformat_minor": 2
}
