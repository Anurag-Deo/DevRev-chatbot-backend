{
 "cells": [
  {
   "cell_type": "code",
   "execution_count": null,
   "metadata": {},
   "outputs": [],
   "source": [
    "# ! pip install -U FlagEmbedding  # Need this"
   ]
  },
  {
   "cell_type": "code",
   "execution_count": 1,
   "metadata": {},
   "outputs": [
    {
     "name": "stderr",
     "output_type": "stream",
     "text": [
      "/home/sharchit/anaconda3/envs/devrev/lib/python3.9/site-packages/tqdm/auto.py:21: TqdmWarning: IProgress not found. Please update jupyter and ipywidgets. See https://ipywidgets.readthedocs.io/en/stable/user_install.html\n",
      "  from .autonotebook import tqdm as notebook_tqdm\n"
     ]
    }
   ],
   "source": [
    "from FlagEmbedding import FlagReranker\n",
    "import re"
   ]
  },
  {
   "cell_type": "code",
   "execution_count": 2,
   "metadata": {},
   "outputs": [],
   "source": [
    "def extract_api_info(unique_docs):\n",
    "    api_info_list = []\n",
    "    for idx,i in enumerate(unique_docs):\n",
    "        content = i.page_content\n",
    "        api_name_match = re.search(r'##API Name: (.+)', i.page_content)\n",
    "        description_match = re.search(r'###Description: (.+?)(?=\\n\\n|\\Z)', i.page_content, re.DOTALL)\n",
    "        arguments_match = re.findall(r'API Argumet: (.+?)\\nArgument Description: (.+?)\\nReturn Type: (.+?)(?=\\n\\n|\\Z)', i.page_content, re.DOTALL)\n",
    "\n",
    "        formatted_string = \"{}\\n{}\\n{}\".format(api_name_match.group(0), description_match.group(0), '\\n'.join([f'{arg[0]}\\nArgument Description: {arg[1]}\\nReturn Type: {arg[2]}' for arg in arguments_match]))        \n",
    "        \n",
    "        struct = {\"id\":idx, \"passage\":formatted_string}\n",
    "        # print(struct)\n",
    "        api_info_list.append(struct)\n",
    "        \n",
    "    return api_info_list"
   ]
  },
  {
   "cell_type": "code",
   "execution_count": 3,
   "metadata": {},
   "outputs": [],
   "source": [
    "def filter_api_names(unique_docs):\n",
    "    api_names = []\n",
    "    for i in unique_docs:\n",
    "        print((i.page_content))\n",
    "        api_match = re.search(r'##API Name: (.+)', i.page_content)\n",
    "        if api_match:\n",
    "            api_names.append(api_match.group(1).strip())\n",
    "    return api_names"
   ]
  },
  {
   "cell_type": "code",
   "execution_count": 4,
   "metadata": {},
   "outputs": [
    {
     "name": "stderr",
     "output_type": "stream",
     "text": [
      "tokenizer_config.json: 100%|██████████| 443/443 [00:00<00:00, 131kB/s]\n",
      "sentencepiece.bpe.model: 100%|██████████| 5.07M/5.07M [00:00<00:00, 18.0MB/s]\n",
      "special_tokens_map.json: 100%|██████████| 279/279 [00:00<00:00, 285kB/s]\n",
      "config.json: 100%|██████████| 799/799 [00:00<00:00, 1.54MB/s]\n",
      "model.safetensors: 100%|██████████| 1.11G/1.11G [00:44<00:00, 25.0MB/s]\n"
     ]
    }
   ],
   "source": [
    "reranker = FlagReranker('BAAI/bge-reranker-base', use_fp16=False) "
   ]
  },
  {
   "cell_type": "code",
   "execution_count": null,
   "metadata": {},
   "outputs": [],
   "source": [
    "def re_rank(passages_with_id_list, query, top_k):\n",
    "\n",
    "    passages_with_id_and_scores_list = []\n",
    "    for passage_with_id in passages_with_id_list:\n",
    "        score = reranker.compute_score([query, passage_with_id[\"passage\"]])\n",
    "        new_struct = {\"id\": passage_with_id[\"id\"], \"passage\": passage_with_id[\"passage\"], \"score\": score}\n",
    "        passages_with_id_and_scores_list.append(new_struct)\n",
    "    \n",
    "    passages_with_id_and_scores_list = sorted(passages_with_id_and_scores_list, key=lambda x: x[\"score\"], reverse=True)\n",
    "    if len(passages_with_id_and_scores_list) <= top_k:\n",
    "        return passages_with_id_and_scores_list\n",
    "    else:\n",
    "        return passages_with_id_and_scores_list[:top_k]"
   ]
  },
  {
   "cell_type": "code",
   "execution_count": null,
   "metadata": {},
   "outputs": [],
   "source": [
    "top_k = len(unique_docs_hf) + 2\n",
    "query = query_handler.generated_queries\n",
    "\n",
    "passages = extract_api_info(unique_docs_hf)\n",
    "re_ranked_passages = re_rank(passages, query, top_k)\n",
    "\n",
    "retrieved_list = []\n",
    "for p in re_ranked_passages:\n",
    "    api_des = p[\"passage\"]\n",
    "    retrieved_list.append(api_des)"
   ]
  }
 ],
 "metadata": {
  "kernelspec": {
   "display_name": "devrev",
   "language": "python",
   "name": "python3"
  },
  "language_info": {
   "codemirror_mode": {
    "name": "ipython",
    "version": 3
   },
   "file_extension": ".py",
   "mimetype": "text/x-python",
   "name": "python",
   "nbconvert_exporter": "python",
   "pygments_lexer": "ipython3",
   "version": "3.9.18"
  }
 },
 "nbformat": 4,
 "nbformat_minor": 2
}
